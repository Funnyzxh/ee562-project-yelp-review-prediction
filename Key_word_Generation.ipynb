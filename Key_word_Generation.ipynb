{
 "cells": [
  {
   "cell_type": "code",
   "execution_count": 1,
   "id": "initial_id",
   "metadata": {
    "collapsed": true,
    "ExecuteTime": {
     "end_time": "2023-12-09T04:49:14.202598Z",
     "start_time": "2023-12-09T04:49:13.936286Z"
    }
   },
   "outputs": [],
   "source": [
    "import json\n",
    "import string\n",
    "import re\n",
    "import pandas as pd\n",
    "import numpy as np\n",
    "from collections import Counter"
   ]
  },
  {
   "cell_type": "code",
   "execution_count": 2,
   "outputs": [
    {
     "name": "stderr",
     "output_type": "stream",
     "text": [
      "[nltk_data] Downloading package punkt to /Users/elijah/nltk_data...\n",
      "[nltk_data]   Package punkt is already up-to-date!\n",
      "[nltk_data] Downloading package stopwords to\n",
      "[nltk_data]     /Users/elijah/nltk_data...\n",
      "[nltk_data]   Package stopwords is already up-to-date!\n",
      "[nltk_data] Downloading package vader_lexicon to\n",
      "[nltk_data]     /Users/elijah/nltk_data...\n",
      "[nltk_data]   Package vader_lexicon is already up-to-date!\n"
     ]
    },
    {
     "data": {
      "text/plain": "True"
     },
     "execution_count": 2,
     "metadata": {},
     "output_type": "execute_result"
    }
   ],
   "source": [
    "import nltk\n",
    "from nltk.sentiment import SentimentIntensityAnalyzer\n",
    "from nltk.corpus import stopwords\n",
    "from nltk.tokenize import word_tokenize\n",
    "\n",
    "nltk.download('punkt')\n",
    "nltk.download('stopwords')\n",
    "nltk.download('vader_lexicon')"
   ],
   "metadata": {
    "collapsed": false,
    "ExecuteTime": {
     "end_time": "2023-12-09T04:49:15.791648Z",
     "start_time": "2023-12-09T04:49:15.440948Z"
    }
   },
   "id": "4486b4bb682851e9"
  },
  {
   "cell_type": "code",
   "execution_count": 3,
   "outputs": [],
   "source": [
    "def read_json_to_dataframe(file_path):\n",
    "    try:\n",
    "        df = pd.read_json(file_path, lines=True)\n",
    "        return df\n",
    "\n",
    "    except Exception as e:\n",
    "        print(f\"Error reading file: {e}\")\n",
    "        return None\n",
    "\n",
    "def remove_apostrophes(series):\n",
    "    return series.apply(lambda lst: [re.sub(r\"'+\", '', word) \\\n",
    "                                         if word.count(\"'\") >= 2 else word for word in lst])\n",
    "\n",
    "def De_symbolize_and_split(df, column_name, new_column_name, separator):\n",
    "    df[new_column_name] = df[column_name].str.lower()\n",
    "    df[new_column_name] = df[new_column_name].str.replace(r\"[^a-zA-Z' ]\", ' ', regex=True)\n",
    "    df[new_column_name] = df[new_column_name].str.replace(r'\\s+', ' ', regex=True).str.strip()\n",
    "    df[new_column_name] = df[new_column_name].str.split(separator)\n",
    "    return df\n",
    "\n",
    "def sum_votes(vote_dict):\n",
    "    weights = {'funny': 1, 'useful': 1, 'cool': 1}\n",
    "    return sum(vote_dict.get(key, 0) * weight for key, weight in weights.items())\n"
   ],
   "metadata": {
    "collapsed": false,
    "ExecuteTime": {
     "end_time": "2023-12-09T04:49:17.605533Z",
     "start_time": "2023-12-09T04:49:17.601053Z"
    }
   },
   "id": "d08251837d545f28"
  },
  {
   "cell_type": "code",
   "execution_count": 5,
   "outputs": [],
   "source": [
    "df_business = read_json_to_dataframe(\"yelp_training_set/yelp_training_set_business.json\")\n",
    "df_checkin = read_json_to_dataframe(\"yelp_training_set/yelp_training_set_checkin.json\")\n",
    "df_review = read_json_to_dataframe(\"yelp_training_set/yelp_training_set_review.json\")\n",
    "df_user = read_json_to_dataframe(\"yelp_training_set/yelp_training_set_user.json\")"
   ],
   "metadata": {
    "collapsed": false,
    "ExecuteTime": {
     "end_time": "2023-12-09T04:50:24.223743Z",
     "start_time": "2023-12-09T04:50:22.269213Z"
    }
   },
   "id": "6664f3f2c99ad11f"
  },
  {
   "cell_type": "code",
   "execution_count": 6,
   "outputs": [],
   "source": [
    "df_review = De_symbolize_and_split(df_review, 'text', 'split_text',' ')\n",
    "df_review['split_text'] = remove_apostrophes(df_review['split_text'])\n",
    "df_review['votes_total'] = df_review['votes'].apply(sum_votes)"
   ],
   "metadata": {
    "collapsed": false,
    "ExecuteTime": {
     "end_time": "2023-12-09T04:50:37.414312Z",
     "start_time": "2023-12-09T04:50:26.326487Z"
    }
   },
   "id": "c6bfab15d5e426d"
  },
  {
   "cell_type": "code",
   "execution_count": 7,
   "outputs": [],
   "source": [
    "sia = SentimentIntensityAnalyzer()\n",
    "stop_words = set(stopwords.words('english'))\n",
    "\n",
    "def evaluative_words(words):\n",
    "\n",
    "    return [word for word in words if word not in stop_words \\\n",
    "            and sia.polarity_scores(word)['compound'] != 0]\n"
   ],
   "metadata": {
    "collapsed": false,
    "ExecuteTime": {
     "end_time": "2023-12-09T04:52:59.924130Z",
     "start_time": "2023-12-09T04:50:43.446192Z"
    }
   },
   "id": "4057c4c8863c8ab2"
  },
  {
   "cell_type": "code",
   "execution_count": 9,
   "outputs": [],
   "source": [
    "df_review['evaluative_words'] = df_review['split_text'].apply(evaluative_words)"
   ],
   "metadata": {
    "collapsed": false,
    "ExecuteTime": {
     "end_time": "2023-12-09T04:59:07.281108Z",
     "start_time": "2023-12-09T04:56:53.914290Z"
    }
   },
   "id": "567d2d59d292f16f"
  },
  {
   "cell_type": "code",
   "execution_count": 10,
   "outputs": [
    {
     "data": {
      "text/plain": "0            good\n1            like\n2           great\n3            love\n4            nice\n         ...     \n95           pita\n96         chance\n97    recommended\n98         number\n99          truly\nName: evaluative_words, Length: 100, dtype: object"
     },
     "execution_count": 10,
     "metadata": {},
     "output_type": "execute_result"
    }
   ],
   "source": [
    "df_words_counts = df_review[\"evaluative_words\"].explode().value_counts().reset_index()\n",
    "df_words_counts[\"evaluative_words\"].head(100)"
   ],
   "metadata": {
    "collapsed": false,
    "ExecuteTime": {
     "end_time": "2023-12-09T05:08:12.957827Z",
     "start_time": "2023-12-09T05:08:12.743593Z"
    }
   },
   "id": "54908ddad23627d3"
  },
  {
   "cell_type": "code",
   "execution_count": null,
   "outputs": [],
   "source": [],
   "metadata": {
    "collapsed": false
   },
   "id": "757c2822723c1034"
  }
 ],
 "metadata": {
  "kernelspec": {
   "display_name": "Python 3",
   "language": "python",
   "name": "python3"
  },
  "language_info": {
   "codemirror_mode": {
    "name": "ipython",
    "version": 2
   },
   "file_extension": ".py",
   "mimetype": "text/x-python",
   "name": "python",
   "nbconvert_exporter": "python",
   "pygments_lexer": "ipython2",
   "version": "2.7.6"
  }
 },
 "nbformat": 4,
 "nbformat_minor": 5
}
